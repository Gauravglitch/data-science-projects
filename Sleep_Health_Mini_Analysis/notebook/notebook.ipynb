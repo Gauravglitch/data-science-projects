{
 "cells": [
  {
   "cell_type": "code",
   "execution_count": 75,
   "id": "a622f61f-54d5-468a-83b6-41f0ff404278",
   "metadata": {
    "executionCancelledAt": null,
    "executionTime": 49,
    "lastExecutedAt": 1747210355789,
    "lastExecutedByKernel": "d15a7d49-0fa5-42e4-b89e-0aef34a069d2",
    "lastScheduledRunId": null,
    "lastSuccessfullyExecutedCode": "import pandas as pd"
   },
   "outputs": [],
   "source": [
    "import pandas as pd"
   ]
  },
  {
   "cell_type": "code",
   "execution_count": 76,
   "id": "3435fac3-8f14-4e48-b5a1-5ffed383115b",
   "metadata": {
    "executionCancelledAt": null,
    "executionTime": 49,
    "lastExecutedAt": 1747210355838,
    "lastExecutedByKernel": "d15a7d49-0fa5-42e4-b89e-0aef34a069d2",
    "lastScheduledRunId": null,
    "lastSuccessfullyExecutedCode": "#load sleep_health_data\ndf = pd.read_csv('sleep_health_data.csv')\ndf.shape",
    "outputsMetadata": {
     "0": {
      "height": 550,
      "tableState": {},
      "type": "dataFrame"
     }
    }
   },
   "outputs": [
    {
     "data": {
      "text/plain": [
       "(374, 13)"
      ]
     },
     "execution_count": 76,
     "metadata": {},
     "output_type": "execute_result"
    }
   ],
   "source": [
    "#load sleep_health_data\n",
    "df = pd.read_csv('sleep_health_data.csv')\n",
    "df.shape"
   ]
  },
  {
   "cell_type": "code",
   "execution_count": 77,
   "id": "00374245-4163-403e-803d-6851c4df6f43",
   "metadata": {
    "executionCancelledAt": null,
    "executionTime": 60,
    "lastExecutedAt": 1747210355898,
    "lastExecutedByKernel": "d15a7d49-0fa5-42e4-b89e-0aef34a069d2",
    "lastScheduledRunId": null,
    "lastSuccessfullyExecutedCode": "df.info()",
    "outputsMetadata": {
     "0": {
      "height": 437,
      "type": "stream"
     }
    }
   },
   "outputs": [
    {
     "name": "stdout",
     "output_type": "stream",
     "text": [
      "<class 'pandas.core.frame.DataFrame'>\n",
      "RangeIndex: 374 entries, 0 to 373\n",
      "Data columns (total 13 columns):\n",
      " #   Column                   Non-Null Count  Dtype  \n",
      "---  ------                   --------------  -----  \n",
      " 0   Person ID                374 non-null    int64  \n",
      " 1   Gender                   374 non-null    object \n",
      " 2   Age                      374 non-null    int64  \n",
      " 3   Occupation               374 non-null    object \n",
      " 4   Sleep Duration           374 non-null    float64\n",
      " 5   Quality of Sleep         374 non-null    int64  \n",
      " 6   Physical Activity Level  374 non-null    int64  \n",
      " 7   Stress Level             374 non-null    int64  \n",
      " 8   BMI Category             374 non-null    object \n",
      " 9   Blood Pressure           374 non-null    object \n",
      " 10  Heart Rate               374 non-null    int64  \n",
      " 11  Daily Steps              374 non-null    int64  \n",
      " 12  Sleep Disorder           374 non-null    object \n",
      "dtypes: float64(1), int64(7), object(5)\n",
      "memory usage: 38.1+ KB\n"
     ]
    }
   ],
   "source": [
    "df.info()"
   ]
  },
  {
   "cell_type": "code",
   "execution_count": 78,
   "id": "2e79b71d-8bd4-4bc5-921e-c95f9980bc48",
   "metadata": {
    "executionCancelledAt": null,
    "executionTime": 56,
    "lastExecutedAt": 1747210355954,
    "lastExecutedByKernel": "d15a7d49-0fa5-42e4-b89e-0aef34a069d2",
    "lastScheduledRunId": null,
    "lastSuccessfullyExecutedCode": "df.head(5)",
    "outputsMetadata": {
     "0": {
      "height": 550,
      "tableState": {},
      "type": "dataFrame"
     }
    }
   },
   "outputs": [
    {
     "data": {
      "application/com.datacamp.data-table.v2+json": {
       "table": {
        "data": {
         "Age": [
          27,
          28,
          28,
          28,
          28
         ],
         "BMI Category": [
          "Overweight",
          "Normal",
          "Normal",
          "Obese",
          "Obese"
         ],
         "Blood Pressure": [
          "126/83",
          "125/80",
          "125/80",
          "140/90",
          "140/90"
         ],
         "Daily Steps": [
          4200,
          10000,
          10000,
          3000,
          3000
         ],
         "Gender": [
          "Male",
          "Male",
          "Male",
          "Male",
          "Male"
         ],
         "Heart Rate": [
          77,
          75,
          75,
          85,
          85
         ],
         "Occupation": [
          "Software Engineer",
          "Doctor",
          "Doctor",
          "Sales Representative",
          "Sales Representative"
         ],
         "Person ID": [
          1,
          2,
          3,
          4,
          5
         ],
         "Physical Activity Level": [
          42,
          60,
          60,
          30,
          30
         ],
         "Quality of Sleep": [
          6,
          6,
          6,
          4,
          4
         ],
         "Sleep Disorder": [
          "None",
          "None",
          "None",
          "Sleep Apnea",
          "Sleep Apnea"
         ],
         "Sleep Duration": [
          6.1,
          6.2,
          6.2,
          5.9,
          5.9
         ],
         "Stress Level": [
          6,
          8,
          8,
          8,
          8
         ],
         "index": [
          0,
          1,
          2,
          3,
          4
         ]
        },
        "schema": {
         "fields": [
          {
           "name": "index",
           "type": "integer"
          },
          {
           "name": "Person ID",
           "type": "integer"
          },
          {
           "name": "Gender",
           "type": "string"
          },
          {
           "name": "Age",
           "type": "integer"
          },
          {
           "name": "Occupation",
           "type": "string"
          },
          {
           "name": "Sleep Duration",
           "type": "number"
          },
          {
           "name": "Quality of Sleep",
           "type": "integer"
          },
          {
           "name": "Physical Activity Level",
           "type": "integer"
          },
          {
           "name": "Stress Level",
           "type": "integer"
          },
          {
           "name": "BMI Category",
           "type": "string"
          },
          {
           "name": "Blood Pressure",
           "type": "string"
          },
          {
           "name": "Heart Rate",
           "type": "integer"
          },
          {
           "name": "Daily Steps",
           "type": "integer"
          },
          {
           "name": "Sleep Disorder",
           "type": "string"
          }
         ],
         "pandas_version": "1.4.0",
         "primaryKey": [
          "index"
         ]
        }
       },
       "total_rows": 5,
       "truncation_type": null
      },
      "text/html": [
       "<div>\n",
       "<style scoped>\n",
       "    .dataframe tbody tr th:only-of-type {\n",
       "        vertical-align: middle;\n",
       "    }\n",
       "\n",
       "    .dataframe tbody tr th {\n",
       "        vertical-align: top;\n",
       "    }\n",
       "\n",
       "    .dataframe thead th {\n",
       "        text-align: right;\n",
       "    }\n",
       "</style>\n",
       "<table border=\"1\" class=\"dataframe\">\n",
       "  <thead>\n",
       "    <tr style=\"text-align: right;\">\n",
       "      <th></th>\n",
       "      <th>Person ID</th>\n",
       "      <th>Gender</th>\n",
       "      <th>Age</th>\n",
       "      <th>Occupation</th>\n",
       "      <th>Sleep Duration</th>\n",
       "      <th>Quality of Sleep</th>\n",
       "      <th>Physical Activity Level</th>\n",
       "      <th>Stress Level</th>\n",
       "      <th>BMI Category</th>\n",
       "      <th>Blood Pressure</th>\n",
       "      <th>Heart Rate</th>\n",
       "      <th>Daily Steps</th>\n",
       "      <th>Sleep Disorder</th>\n",
       "    </tr>\n",
       "  </thead>\n",
       "  <tbody>\n",
       "    <tr>\n",
       "      <th>0</th>\n",
       "      <td>1</td>\n",
       "      <td>Male</td>\n",
       "      <td>27</td>\n",
       "      <td>Software Engineer</td>\n",
       "      <td>6.1</td>\n",
       "      <td>6</td>\n",
       "      <td>42</td>\n",
       "      <td>6</td>\n",
       "      <td>Overweight</td>\n",
       "      <td>126/83</td>\n",
       "      <td>77</td>\n",
       "      <td>4200</td>\n",
       "      <td>None</td>\n",
       "    </tr>\n",
       "    <tr>\n",
       "      <th>1</th>\n",
       "      <td>2</td>\n",
       "      <td>Male</td>\n",
       "      <td>28</td>\n",
       "      <td>Doctor</td>\n",
       "      <td>6.2</td>\n",
       "      <td>6</td>\n",
       "      <td>60</td>\n",
       "      <td>8</td>\n",
       "      <td>Normal</td>\n",
       "      <td>125/80</td>\n",
       "      <td>75</td>\n",
       "      <td>10000</td>\n",
       "      <td>None</td>\n",
       "    </tr>\n",
       "    <tr>\n",
       "      <th>2</th>\n",
       "      <td>3</td>\n",
       "      <td>Male</td>\n",
       "      <td>28</td>\n",
       "      <td>Doctor</td>\n",
       "      <td>6.2</td>\n",
       "      <td>6</td>\n",
       "      <td>60</td>\n",
       "      <td>8</td>\n",
       "      <td>Normal</td>\n",
       "      <td>125/80</td>\n",
       "      <td>75</td>\n",
       "      <td>10000</td>\n",
       "      <td>None</td>\n",
       "    </tr>\n",
       "    <tr>\n",
       "      <th>3</th>\n",
       "      <td>4</td>\n",
       "      <td>Male</td>\n",
       "      <td>28</td>\n",
       "      <td>Sales Representative</td>\n",
       "      <td>5.9</td>\n",
       "      <td>4</td>\n",
       "      <td>30</td>\n",
       "      <td>8</td>\n",
       "      <td>Obese</td>\n",
       "      <td>140/90</td>\n",
       "      <td>85</td>\n",
       "      <td>3000</td>\n",
       "      <td>Sleep Apnea</td>\n",
       "    </tr>\n",
       "    <tr>\n",
       "      <th>4</th>\n",
       "      <td>5</td>\n",
       "      <td>Male</td>\n",
       "      <td>28</td>\n",
       "      <td>Sales Representative</td>\n",
       "      <td>5.9</td>\n",
       "      <td>4</td>\n",
       "      <td>30</td>\n",
       "      <td>8</td>\n",
       "      <td>Obese</td>\n",
       "      <td>140/90</td>\n",
       "      <td>85</td>\n",
       "      <td>3000</td>\n",
       "      <td>Sleep Apnea</td>\n",
       "    </tr>\n",
       "  </tbody>\n",
       "</table>\n",
       "</div>"
      ],
      "text/plain": [
       "   Person ID Gender  Age  ... Heart Rate  Daily Steps  Sleep Disorder\n",
       "0          1   Male   27  ...         77         4200            None\n",
       "1          2   Male   28  ...         75        10000            None\n",
       "2          3   Male   28  ...         75        10000            None\n",
       "3          4   Male   28  ...         85         3000     Sleep Apnea\n",
       "4          5   Male   28  ...         85         3000     Sleep Apnea\n",
       "\n",
       "[5 rows x 13 columns]"
      ]
     },
     "execution_count": 78,
     "metadata": {
      "application/com.datacamp.data-table.v2+json": {
       "status": "success"
      }
     },
     "output_type": "execute_result"
    }
   ],
   "source": [
    "df.head(5)"
   ]
  },
  {
   "cell_type": "code",
   "execution_count": 79,
   "id": "56b34f4b-b96a-4dbd-870f-8e9e348b9cb7",
   "metadata": {
    "executionCancelledAt": null,
    "executionTime": 52,
    "lastExecutedAt": 1747210356006,
    "lastExecutedByKernel": "d15a7d49-0fa5-42e4-b89e-0aef34a069d2",
    "lastScheduledRunId": null,
    "lastSuccessfullyExecutedCode": "#Calculate the average sleep duraton by occupation\nsleep_duration_occupation = df.groupby('Occupation')['Sleep Duration'].mean().sort_values()\nprint(sleep_duration_occupation)\n#Finding lowest average sleep duration by occupation\nlowest_sleep_occ = sleep_duration_occupation.index[0]\nprint(lowest_sleep_occ)",
    "outputsMetadata": {
     "0": {
      "height": 311,
      "type": "stream"
     }
    }
   },
   "outputs": [
    {
     "name": "stdout",
     "output_type": "stream",
     "text": [
      "Occupation\n",
      "Sales Representative    5.900000\n",
      "Scientist               6.000000\n",
      "Salesperson             6.403125\n",
      "Teacher                 6.690000\n",
      "Software Engineer       6.750000\n",
      "Manager                 6.900000\n",
      "Doctor                  6.970423\n",
      "Nurse                   7.063014\n",
      "Accountant              7.113514\n",
      "Lawyer                  7.410638\n",
      "Engineer                7.987302\n",
      "Name: Sleep Duration, dtype: float64\n",
      "Sales Representative\n"
     ]
    }
   ],
   "source": [
    "#Calculate the average sleep duraton by occupation\n",
    "sleep_duration_occupation = df.groupby('Occupation')['Sleep Duration'].mean().sort_values()\n",
    "print(sleep_duration_occupation)\n",
    "#Finding lowest average sleep duration by occupation\n",
    "lowest_sleep_occ = sleep_duration_occupation.index[0]\n",
    "print(lowest_sleep_occ)"
   ]
  },
  {
   "cell_type": "code",
   "execution_count": 80,
   "id": "363ef104-683d-429e-b131-5118e26ef0ec",
   "metadata": {
    "executionCancelledAt": null,
    "executionTime": 52,
    "lastExecutedAt": 1747210356058,
    "lastExecutedByKernel": "d15a7d49-0fa5-42e4-b89e-0aef34a069d2",
    "lastScheduledRunId": null,
    "lastSuccessfullyExecutedCode": "#Calculate average sleep quality by occupation\nsleep_quality_occupation = df.groupby('Occupation')['Quality of Sleep'].mean().sort_values()\nprint(sleep_quality_occupation)\n#Finding the lowest average sleep quality by occupation\nlowest_sleep_quality_occ = sleep_quality_occupation.index[0]\nprint(lowest_sleep_quality_occ)",
    "outputsMetadata": {
     "0": {
      "height": 311,
      "type": "stream"
     }
    }
   },
   "outputs": [
    {
     "name": "stdout",
     "output_type": "stream",
     "text": [
      "Occupation\n",
      "Sales Representative    4.000000\n",
      "Scientist               5.000000\n",
      "Salesperson             6.000000\n",
      "Software Engineer       6.500000\n",
      "Doctor                  6.647887\n",
      "Teacher                 6.975000\n",
      "Manager                 7.000000\n",
      "Nurse                   7.369863\n",
      "Accountant              7.891892\n",
      "Lawyer                  7.893617\n",
      "Engineer                8.412698\n",
      "Name: Quality of Sleep, dtype: float64\n",
      "Sales Representative\n"
     ]
    }
   ],
   "source": [
    "#Calculate average sleep quality by occupation\n",
    "sleep_quality_occupation = df.groupby('Occupation')['Quality of Sleep'].mean().sort_values()\n",
    "print(sleep_quality_occupation)\n",
    "#Finding the lowest average sleep quality by occupation\n",
    "lowest_sleep_quality_occ = sleep_quality_occupation.index[0]\n",
    "print(lowest_sleep_quality_occ)"
   ]
  },
  {
   "cell_type": "code",
   "execution_count": 81,
   "id": "4fdcbdb6-f16d-4892-8a52-1e473abed2b5",
   "metadata": {
    "executionCancelledAt": null,
    "executionTime": 52,
    "lastExecutedAt": 1747210356110,
    "lastExecutedByKernel": "d15a7d49-0fa5-42e4-b89e-0aef34a069d2",
    "lastScheduledRunId": null,
    "lastSuccessfullyExecutedCode": "#Checking if lowest average sleep duratioand lowest average sleep quality are same occupation\nif lowest_sleep_occ == lowest_sleep_quality_occ:\n    same_occ = True\nelse:\n    same_occ = False\nprint(same_occ)",
    "outputsMetadata": {
     "0": {
      "height": 38,
      "type": "stream"
     }
    }
   },
   "outputs": [
    {
     "name": "stdout",
     "output_type": "stream",
     "text": [
      "True\n"
     ]
    }
   ],
   "source": [
    "#Checking if lowest average sleep duratioand lowest average sleep quality are same occupation\n",
    "if lowest_sleep_occ == lowest_sleep_quality_occ:\n",
    "    same_occ = True\n",
    "else:\n",
    "    same_occ = False\n",
    "print(same_occ)"
   ]
  },
  {
   "cell_type": "code",
   "execution_count": 82,
   "id": "f0ca7f91-9959-4101-999e-059d92f1f690",
   "metadata": {
    "executionCancelledAt": null,
    "executionTime": 53,
    "lastExecutedAt": 1747210356163,
    "lastExecutedByKernel": "d15a7d49-0fa5-42e4-b89e-0aef34a069d2",
    "lastScheduledRunId": null,
    "lastSuccessfullyExecutedCode": "#Calculate normal insomnia ratio\ndf_normal_insomnia=df[(df['Sleep Disorder']=='Insomnia') & (df['BMI Category'] =='Normal')]\ntotal_normal = len(df[df['BMI Category']=='Normal'])\nnormal_insomnia_ratio = round(len(df_normal_insomnia) / total_normal, 2) \nprint(total_normal)\nprint(normal_insomnia_ratio)",
    "outputsMetadata": {
     "0": {
      "height": 59,
      "type": "stream"
     }
    }
   },
   "outputs": [
    {
     "name": "stdout",
     "output_type": "stream",
     "text": [
      "216\n",
      "0.04\n"
     ]
    }
   ],
   "source": [
    "#Calculate normal insomnia ratio\n",
    "df_normal_insomnia=df[(df['Sleep Disorder']=='Insomnia') & (df['BMI Category'] =='Normal')]\n",
    "total_normal = len(df[df['BMI Category']=='Normal'])\n",
    "normal_insomnia_ratio = round(len(df_normal_insomnia) / total_normal, 2) \n",
    "print(total_normal)\n",
    "print(normal_insomnia_ratio)"
   ]
  },
  {
   "cell_type": "code",
   "execution_count": 83,
   "id": "8a108521-657d-4cc7-b375-4f804ec164a2",
   "metadata": {
    "executionCancelledAt": null,
    "executionTime": 51,
    "lastExecutedAt": 1747210356214,
    "lastExecutedByKernel": "d15a7d49-0fa5-42e4-b89e-0aef34a069d2",
    "lastScheduledRunId": null,
    "lastSuccessfullyExecutedCode": "#Calculate obese insomnia ratio\ndf_obese_insomnia=df[(df['Sleep Disorder']=='Insomnia') & (df['BMI Category'] =='Obese')]\ntotal_obese = len(df[df['BMI Category']=='Obese'])\nobese_insomnia_ratio = round(len(df_obese_insomnia) / total_obese, 2) \nprint(total_obese)\nprint(obese_insomnia_ratio)",
    "outputsMetadata": {
     "0": {
      "height": 59,
      "type": "stream"
     }
    }
   },
   "outputs": [
    {
     "name": "stdout",
     "output_type": "stream",
     "text": [
      "10\n",
      "0.4\n"
     ]
    }
   ],
   "source": [
    "#Calculate obese insomnia ratio\n",
    "df_obese_insomnia=df[(df['Sleep Disorder']=='Insomnia') & (df['BMI Category'] =='Obese')]\n",
    "total_obese = len(df[df['BMI Category']=='Obese'])\n",
    "obese_insomnia_ratio = round(len(df_obese_insomnia) / total_obese, 2) \n",
    "print(total_obese)\n",
    "print(obese_insomnia_ratio)"
   ]
  },
  {
   "cell_type": "code",
   "execution_count": 84,
   "id": "ebc844f5-13a9-4bfb-bf6c-df9578663f65",
   "metadata": {
    "executionCancelledAt": null,
    "executionTime": 56,
    "lastExecutedAt": 1747210356270,
    "lastExecutedByKernel": "d15a7d49-0fa5-42e4-b89e-0aef34a069d2",
    "lastScheduledRunId": null,
    "lastSuccessfullyExecutedCode": "#Calculate overweight insomnia ratio\ndf_overweight_insomnia=df[(df['Sleep Disorder']=='Insomnia') & (df['BMI Category'] =='Overweight')]\ntotal_overweight = len(df[df['BMI Category']=='Overweight'])\noverweight_insomnia_ratio = round(len(df_overweight_insomnia) / total_overweight, 2) \nprint(total_overweight)\nprint(overweight_insomnia_ratio)",
    "outputsMetadata": {
     "0": {
      "height": 59,
      "type": "stream"
     }
    }
   },
   "outputs": [
    {
     "name": "stdout",
     "output_type": "stream",
     "text": [
      "148\n",
      "0.43\n"
     ]
    }
   ],
   "source": [
    "#Calculate overweight insomnia ratio\n",
    "df_overweight_insomnia=df[(df['Sleep Disorder']=='Insomnia') & (df['BMI Category'] =='Overweight')]\n",
    "total_overweight = len(df[df['BMI Category']=='Overweight'])\n",
    "overweight_insomnia_ratio = round(len(df_overweight_insomnia) / total_overweight, 2) \n",
    "print(total_overweight)\n",
    "print(overweight_insomnia_ratio)"
   ]
  },
  {
   "cell_type": "code",
   "execution_count": 85,
   "id": "53893020-d124-4ea7-b16b-1cc2dde82dff",
   "metadata": {
    "executionCancelledAt": null,
    "executionTime": 52,
    "lastExecutedAt": 1747210356322,
    "lastExecutedByKernel": "d15a7d49-0fa5-42e4-b89e-0aef34a069d2",
    "lastScheduledRunId": null,
    "lastSuccessfullyExecutedCode": "#Create dictionary to store the ratios for each BMI category\nbmi_insomnia_ratios = {\n    \"Normal\" : normal_insomnia_ratio,\n    \"Obese\" : obese_insomnia_ratio,\n    \"Overweight\" : overweight_insomnia_ratio\n}\nprint(bmi_insomnia_ratios)",
    "outputsMetadata": {
     "0": {
      "height": 38,
      "type": "stream"
     }
    }
   },
   "outputs": [
    {
     "name": "stdout",
     "output_type": "stream",
     "text": [
      "{'Normal': 0.04, 'Obese': 0.4, 'Overweight': 0.43}\n"
     ]
    }
   ],
   "source": [
    "#Create dictionary to store the ratios for each BMI category\n",
    "bmi_insomnia_ratios = {\n",
    "    \"Normal\" : normal_insomnia_ratio,\n",
    "    \"Obese\" : obese_insomnia_ratio,\n",
    "    \"Overweight\" : overweight_insomnia_ratio\n",
    "}\n",
    "print(bmi_insomnia_ratios)"
   ]
  }
 ],
 "metadata": {
  "colab": {
   "name": "Welcome to DataCamp Workspaces.ipynb",
   "provenance": []
  },
  "kernelspec": {
   "display_name": "base",
   "language": "python",
   "name": "python3"
  },
  "language_info": {
   "codemirror_mode": {
    "name": "ipython",
    "version": 3
   },
   "file_extension": ".py",
   "mimetype": "text/x-python",
   "name": "python",
   "nbconvert_exporter": "python",
   "pygments_lexer": "ipython3",
   "version": "3.12.4"
  }
 },
 "nbformat": 4,
 "nbformat_minor": 5
}
