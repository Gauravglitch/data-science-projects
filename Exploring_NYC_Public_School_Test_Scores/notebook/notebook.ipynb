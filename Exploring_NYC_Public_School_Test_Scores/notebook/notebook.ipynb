{
 "cells": [
  {
   "cell_type": "markdown",
   "id": "fe0ea788-58dd-459e-8976-fafdb5c05c6d",
   "metadata": {},
   "source": [
    "Every year, American high school students take SATs, which are standardized tests intended to measure literacy, numeracy, and writing skills. There are three sections - reading, math, and writing, each with a **maximum score of 800 points**. These tests are extremely important for students and colleges, as they play a pivotal role in the admissions process.\n",
    "\n",
    "Analyzing the performance of schools is important for a variety of stakeholders, including policy and education professionals, researchers, government, and even parents considering which school their children should attend. \n",
    "\n",
    "You have been provided with a dataset called `schools.csv`, which is previewed below.\n",
    "\n",
    "You have been tasked with answering three key questions about New York City (NYC) public school SAT performance."
   ]
  },
  {
   "cell_type": "code",
   "execution_count": 12,
   "id": "d0eb4f16-5a99-460d-a5ba-706b7ef0bbe7",
   "metadata": {
    "executionCancelledAt": null,
    "executionTime": 39,
    "id": "bA5ajAmk7XH6",
    "lastExecutedAt": 1744423553915,
    "lastExecutedByKernel": "1ff27dab-1624-4fd0-8afd-fb88b4ff7325",
    "lastScheduledRunId": null,
    "lastSuccessfullyExecutedCode": "# Re-run this cell \nimport pandas as pd\n\n# Read in the data\nschools = pd.read_csv(\"schools.csv\")\n\n# Preview the data\nschools.head()\n\n#NYC schools that have the best math results\nbest_result = 80/100 * 800\nmath_school_at_least_80per= schools[schools['average_math']>=best_result]\nbest_math_schools = math_school_at_least_80per[['school_name','average_math']].sort_values('average_math',ascending=False)\nprint(best_math_schools)\n\n#Top 10 performing schools based on the combined SAT scores\nschools['total_SAT'] = schools['average_math']+schools['average_reading']+schools['average_writing']\ntop_10_schools = schools[['school_name','total_SAT']].sort_values('total_SAT',ascending=False).head(10)\nprint(top_10_schools)\n\n#Borough that has the largest standard deviation in the combined SAT score\ngroupby_borough=schools.groupby('borough')['total_SAT'].agg(['count','mean','std']).round(2)\nlargest_std_dev=groupby_borough[groupby_borough['std']==groupby_borough['std'].max()]\nlargest_std_dev = largest_std_dev.rename(columns={'count':'num_schools','mean':'average_SAT','std':'std_SAT'})  \nlargest_std_dev.reset_index(inplace=True)\nprint(largest_std_dev)",
    "outputsMetadata": {
     "0": {
      "height": 521,
      "type": "stream"
     },
     "1": {
      "height": 50,
      "tableState": {
       "customFilter": {
        "const": {
         "type": "boolean",
         "valid": true,
         "value": true
        },
        "id": "e552dbe1-c269-4a87-815c-e6705292bbe8",
        "nodeType": "const"
       }
      },
      "type": "dataFrame"
     }
    }
   },
   "outputs": [
    {
     "name": "stdout",
     "output_type": "stream",
     "text": [
      "                                           school_name  average_math\n",
      "88                              Stuyvesant High School           754\n",
      "170                       Bronx High School of Science           714\n",
      "93                 Staten Island Technical High School           711\n",
      "365  Queens High School for the Sciences at York Co...           701\n",
      "68   High School for Mathematics, Science, and Engi...           683\n",
      "280                     Brooklyn Technical High School           682\n",
      "333                        Townsend Harris High School           680\n",
      "174  High School of American Studies at Lehman College           669\n",
      "0    New Explorations into Science, Technology and ...           657\n",
      "45                       Eleanor Roosevelt High School           641\n",
      "                                           school_name  total_SAT\n",
      "88                              Stuyvesant High School       2144\n",
      "170                       Bronx High School of Science       2041\n",
      "93                 Staten Island Technical High School       2041\n",
      "174  High School of American Studies at Lehman College       2013\n",
      "333                        Townsend Harris High School       1981\n",
      "365  Queens High School for the Sciences at York Co...       1947\n",
      "5                       Bard High School Early College       1914\n",
      "280                     Brooklyn Technical High School       1896\n",
      "45                       Eleanor Roosevelt High School       1889\n",
      "68   High School for Mathematics, Science, and Engi...       1889\n",
      "     borough  num_schools  average_SAT  std_SAT\n",
      "0  Manhattan           89      1340.13   230.29\n"
     ]
    }
   ],
   "source": [
    "# Re-run this cell \n",
    "import pandas as pd\n",
    "\n",
    "# Read in the data\n",
    "schools = pd.read_csv(\"G:/data-science-projects/Exploring_NYC_Public_School_Test_Scores/data/schools.csv\")\n",
    "\n",
    "# Preview the data\n",
    "schools.head()\n",
    "\n",
    "#NYC schools that have the best math results\n",
    "best_result = 80/100 * 800\n",
    "math_school_at_least_80per= schools[schools['average_math']>=best_result]\n",
    "best_math_schools = math_school_at_least_80per[['school_name','average_math']].sort_values('average_math',ascending=False)\n",
    "print(best_math_schools)\n",
    "\n",
    "#Top 10 performing schools based on the combined SAT scores\n",
    "schools['total_SAT'] = schools['average_math']+schools['average_reading']+schools['average_writing']\n",
    "top_10_schools = schools[['school_name','total_SAT']].sort_values('total_SAT',ascending=False).head(10)\n",
    "print(top_10_schools)\n",
    "\n",
    "#Borough that has the largest standard deviation in the combined SAT score\n",
    "groupby_borough=schools.groupby('borough')['total_SAT'].agg(['count','mean','std']).round(2)\n",
    "largest_std_dev=groupby_borough[groupby_borough['std']==groupby_borough['std'].max()]\n",
    "largest_std_dev = largest_std_dev.rename(columns={'count':'num_schools','mean':'average_SAT','std':'std_SAT'})  \n",
    "largest_std_dev.reset_index(inplace=True)\n",
    "print(largest_std_dev)"
   ]
  }
 ],
 "metadata": {
  "editor": "DataLab",
  "kernelspec": {
   "display_name": "Python 3",
   "language": "python",
   "name": "python3"
  },
  "language_info": {
   "codemirror_mode": {
    "name": "ipython",
    "version": 3
   },
   "file_extension": ".py",
   "mimetype": "text/x-python",
   "name": "python",
   "nbconvert_exporter": "python",
   "pygments_lexer": "ipython3",
   "version": "3.13.1"
  }
 },
 "nbformat": 4,
 "nbformat_minor": 5
}
